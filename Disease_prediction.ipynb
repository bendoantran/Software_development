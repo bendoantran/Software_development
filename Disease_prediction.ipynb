{
  "nbformat": 4,
  "nbformat_minor": 0,
  "metadata": {
    "colab": {
      "provenance": [],
      "gpuType": "T4"
    },
    "kernelspec": {
      "name": "python3",
      "display_name": "Python 3"
    },
    "language_info": {
      "name": "python"
    },
    "accelerator": "GPU"
  },
  "cells": [
    {
      "cell_type": "markdown",
      "source": [
        "# In this project, i am designed to make a personlized medical care that works as a doctor.\n",
        "**T** : list of the diseases that the patients most likely to have\n",
        "\n",
        "Conversation\n",
        "- First of all, the patient will tell his or her symptoms.\n",
        "- Based on those symptoms, the doctor might find out **T**\n",
        "- To reinforce the decision, the doctor other symptoms that **T** has and asked the patients\n",
        "- Combine all the symptoms together, we will have a list of symptoms to make a decison what disease the patients have.\n",
        "\n",
        "Picture looking:\n",
        "- This AI model also want to mimic the looking ability from the doctor from MRI or DEXA scan\n",
        "\n",
        "After having the perentage from image and conservation, i will add those percentage together to get a new percentages."
      ],
      "metadata": {
        "id": "prSIfKSVCdTv"
      }
    },
    {
      "cell_type": "markdown",
      "source": [
        "# Creating a dataset:\n",
        "- Column 1: Disease\n",
        "- Column 2: List of Symptoms"
      ],
      "metadata": {
        "id": "73dwRBbf-w83"
      }
    },
    {
      "cell_type": "code",
      "source": [
        "import pandas as pd\n",
        "\n",
        "# Your table of diseases and symptoms\n",
        "data = {\n",
        "    'Disease': ['Influenza', 'Common Cold', 'COVID-19', 'Pneumonia', 'Asthma', 'Diabetes', 'Hypertension', 'Migraine', 'Arthritis', 'Appendicitis',\n",
        "                'Hepatitis', 'Malaria', 'Tuberculosis', 'Lyme Disease', 'Strep Throat', 'Chickenpox', 'Bronchitis', 'Gastroenteritis', 'Anemia', 'Sinusitis'],\n",
        "    'Symptoms': [\n",
        "        ['Fever', 'Cough', 'Sore Throat', 'Muscle Aches'],\n",
        "        ['Runny Nose', 'Congestion', 'Sneezing', 'Sore Throat'],\n",
        "        ['Fever', 'Cough', 'Shortness of Breath', 'Loss of Taste', 'Fatigue'],\n",
        "        ['Chest Pain', 'Cough', 'Fever', 'Shortness of Breath'],\n",
        "        ['Wheezing', 'Shortness of Breath', 'Chest Tightness'],\n",
        "        ['Increased Thirst', 'Frequent Urination', 'Fatigue', 'Blurred Vision'],\n",
        "        ['Headache', 'Dizziness', 'Blurred Vision', 'Fatigue'],\n",
        "        ['Headache', 'Nausea', 'Sensitivity to Light', 'Visual Disturbances'],\n",
        "        ['Joint Pain', 'Swelling', 'Stiffness', 'Redness'],\n",
        "        ['Abdominal Pain', 'Nausea', 'Vomiting', 'Loss of Appetite'],\n",
        "        ['Fatigue', 'Jaundice', 'Abdominal Pain', 'Dark Urine'],\n",
        "        ['Fever', 'Chills', 'Sweating', 'Muscle Pain'],\n",
        "        ['Cough', 'Weight Loss', 'Fever', 'Night Sweats'],\n",
        "        ['Rash', 'Fever', 'Fatigue', 'Muscle Pain'],\n",
        "        ['Sore Throat', 'Fever', 'Swollen Lymph Nodes', 'Headache'],\n",
        "        ['Fever', 'Rash', 'Itching', 'Fatigue'],\n",
        "        ['Cough', 'Chest Discomfort', 'Shortness of Breath', 'Mucus Production'],\n",
        "        ['Nausea', 'Vomiting', 'Diarrhea', 'Abdominal Pain'],\n",
        "        ['Fatigue', 'Weakness', 'Pale Skin', 'Shortness of Breath'],\n",
        "        ['Nasal Congestion', 'Headache', 'Facial Pain', 'Runny Nose']\n",
        "    ]\n",
        "}\n",
        "\n",
        "# Convert the data into a DataFrame\n",
        "df = pd.DataFrame(data)\n",
        "\n",
        "print(df)\n"
      ],
      "metadata": {
        "colab": {
          "base_uri": "https://localhost:8080/"
        },
        "id": "VBeYTkCptcyq",
        "outputId": "2b0cca89-f410-46b3-c8b4-4918b5856c8f"
      },
      "execution_count": null,
      "outputs": [
        {
          "output_type": "stream",
          "name": "stdout",
          "text": [
            "            Disease                                           Symptoms\n",
            "0         Influenza          [Fever, Cough, Sore Throat, Muscle Aches]\n",
            "1       Common Cold    [Runny Nose, Congestion, Sneezing, Sore Throat]\n",
            "2          COVID-19  [Fever, Cough, Shortness of Breath, Loss of Ta...\n",
            "3         Pneumonia    [Chest Pain, Cough, Fever, Shortness of Breath]\n",
            "4            Asthma   [Wheezing, Shortness of Breath, Chest Tightness]\n",
            "5          Diabetes  [Increased Thirst, Frequent Urination, Fatigue...\n",
            "6      Hypertension     [Headache, Dizziness, Blurred Vision, Fatigue]\n",
            "7          Migraine  [Headache, Nausea, Sensitivity to Light, Visua...\n",
            "8         Arthritis         [Joint Pain, Swelling, Stiffness, Redness]\n",
            "9      Appendicitis  [Abdominal Pain, Nausea, Vomiting, Loss of App...\n",
            "10        Hepatitis    [Fatigue, Jaundice, Abdominal Pain, Dark Urine]\n",
            "11          Malaria             [Fever, Chills, Sweating, Muscle Pain]\n",
            "12     Tuberculosis          [Cough, Weight Loss, Fever, Night Sweats]\n",
            "13     Lyme Disease                [Rash, Fever, Fatigue, Muscle Pain]\n",
            "14     Strep Throat  [Sore Throat, Fever, Swollen Lymph Nodes, Head...\n",
            "15       Chickenpox                    [Fever, Rash, Itching, Fatigue]\n",
            "16       Bronchitis  [Cough, Chest Discomfort, Shortness of Breath,...\n",
            "17  Gastroenteritis       [Nausea, Vomiting, Diarrhea, Abdominal Pain]\n",
            "18           Anemia  [Fatigue, Weakness, Pale Skin, Shortness of Br...\n",
            "19        Sinusitis  [Nasal Congestion, Headache, Facial Pain, Runn...\n"
          ]
        }
      ]
    },
    {
      "cell_type": "code",
      "source": [
        "# Preprocess data\n",
        "data = {\n",
        "    'Disease': ['Influenza', 'Common Cold', 'COVID-19', 'Pneumonia', 'Asthma', 'Diabetes', 'Hypertension', 'Migraine', 'Arthritis', 'Appendicitis',\n",
        "                'Hepatitis', 'Malaria', 'Tuberculosis', 'Lyme Disease', 'Strep Throat', 'Chickenpox', 'Bronchitis', 'Gastroenteritis', 'Anemia', 'Sinusitis'],\n",
        "    'Symptoms': [\n",
        "        ['Fever', 'Cough', 'Sore Throat', 'Muscle Aches'],\n",
        "        ['Runny Nose', 'Congestion', 'Sneezing', 'Sore Throat'],\n",
        "        ['Fever', 'Cough', 'Shortness of Breath', 'Loss of Taste', 'Fatigue'],\n",
        "        ['Chest Pain', 'Cough', 'Fever', 'Shortness of Breath'],\n",
        "        ['Wheezing', 'Shortness of Breath', 'Chest Tightness'],\n",
        "        ['Increased Thirst', 'Frequent Urination', 'Fatigue', 'Blurred Vision'],\n",
        "        ['Headache', 'Dizziness', 'Blurred Vision', 'Fatigue'],\n",
        "        ['Headache', 'Nausea', 'Sensitivity to Light', 'Visual Disturbances'],\n",
        "        ['Joint Pain', 'Swelling', 'Stiffness', 'Redness'],\n",
        "        ['Abdominal Pain', 'Nausea', 'Vomiting', 'Loss of Appetite'],\n",
        "        ['Fatigue', 'Jaundice', 'Abdominal Pain', 'Dark Urine'],\n",
        "        ['Fever', 'Chills', 'Sweating', 'Muscle Pain'],\n",
        "        ['Cough', 'Weight Loss', 'Fever', 'Night Sweats'],\n",
        "        ['Rash', 'Fever', 'Fatigue', 'Muscle Pain'],\n",
        "        ['Sore Throat', 'Fever', 'Swollen Lymph Nodes', 'Headache'],\n",
        "        ['Fever', 'Rash', 'Itching', 'Fatigue'],\n",
        "        ['Cough', 'Chest Discomfort', 'Shortness of Breath', 'Mucus Production'],\n",
        "        ['Nausea', 'Vomiting', 'Diarrhea', 'Abdominal Pain'],\n",
        "        ['Fatigue', 'Weakness', 'Pale Skin', 'Shortness of Breath'],\n",
        "        ['Nasal Congestion', 'Headache', 'Facial Pain', 'Runny Nose']\n",
        "    ]\n",
        "}\n",
        "\n",
        "diseases = data['Disease']\n",
        "symptoms_list = [\" \".join(symptoms) for symptoms in data['Symptoms']]\n",
        "input_symptoms = \"Nasal Congestion Headache\"\n",
        "\n",
        "# Define paths\n",
        "model_dir = \"bert_model_saved\"\n",
        "embeddings_path = \"symptoms_embeddings.pkl\"\n",
        "\n",
        "# Load or initialize model\n",
        "if os.path.exists(model_dir) and os.path.exists(embeddings_path):\n",
        "    print(\"Loading saved model and embeddings...\")\n",
        "    model = SentenceTransformer(model_dir)  # Load the saved BERT model\n",
        "    with open(embeddings_path, 'rb') as file:\n",
        "        encoded_symptoms = pickle.load(file)\n",
        "else:\n",
        "    print(\"Model not found, initializing and saving model...\")\n",
        "    model = SentenceTransformer('all-MiniLM-L6-v2')  # Initialize the BERT model\n",
        "    encoded_symptoms = model.encode(symptoms_list)   # Encode all symptoms\n",
        "    model.save(model_dir)  # Save the model\n",
        "    with open(embeddings_path, 'wb') as file:\n",
        "        pickle.dump(encoded_symptoms, file)  # Save embeddings for reuse\n",
        "\n",
        "# Encode input symptoms\n",
        "encoded_input = model.encode([input_symptoms])\n",
        "\n",
        "# Compute cosine similarity\n",
        "similarity_scores = cosine_similarity(encoded_input, encoded_symptoms)\n",
        "\n",
        "# Get the most similar disease\n",
        "most_similar_index = np.argmax(similarity_scores)\n",
        "predicted_disease = diseases[most_similar_index]\n",
        "\n",
        "print(f\"Predicted Disease: {predicted_disease}\")\n",
        "\n",
        "# Check if saved model and embeddings exist\n",
        "if not os.path.exists(model_dir) or not os.path.exists(embeddings_path):\n",
        "    raise FileNotFoundError(\"Saved model or embeddings not found. Run the initial script to save them.\")\n",
        "\n",
        "# Load the saved model and embeddings\n",
        "print(\"Loading saved model and embeddings...\")\n",
        "model = SentenceTransformer(model_dir)  # Load saved model\n",
        "with open(embeddings_path, 'rb') as file:\n",
        "    encoded_symptoms = pickle.load(file)  # Load precomputed embeddings\n",
        "\n",
        "# List of diseases (must match the order of embeddings)\n",
        "diseases = [\n",
        "    'Influenza', 'Common Cold', 'COVID-19', 'Pneumonia', 'Asthma', 'Diabetes', 'Hypertension',\n",
        "    'Migraine', 'Arthritis', 'Appendicitis', 'Hepatitis', 'Malaria', 'Tuberculosis',\n",
        "    'Lyme Disease', 'Strep Throat', 'Chickenpox', 'Bronchitis', 'Gastroenteritis',\n",
        "    'Anemia', 'Sinusitis'\n",
        "]\n",
        "\n",
        "# Function to predict disease based on input symptoms\n",
        "def predict_disease(input_symptoms: str):\n",
        "    # Encode the new input symptoms\n",
        "    encoded_input = model.encode([input_symptoms])\n",
        "\n",
        "    # Compute cosine similarity with precomputed embeddings\n",
        "    similarity_scores = cosine_similarity(encoded_input, encoded_symptoms)\n",
        "\n",
        "    # Get the most similar disease\n",
        "    most_similar_index = np.argmax(similarity_scores)\n",
        "    predicted_disease = diseases[most_similar_index]\n",
        "    return predicted_disease\n",
        "\n",
        "# Example usage with new symptoms\n",
        "new_symptoms = \"Nasal Congestion Headache\"\n",
        "predicted_disease = predict_disease(new_symptoms)\n",
        "print(f\"Predicted Disease for symptoms '{new_symptoms}': {predicted_disease}\")\n"
      ],
      "metadata": {
        "id": "y6e2gShMRpIY"
      },
      "execution_count": null,
      "outputs": []
    },
    {
      "cell_type": "markdown",
      "source": [
        "# Creating a list of unique symptoms"
      ],
      "metadata": {
        "id": "o_lYe-xy_DWg"
      }
    },
    {
      "cell_type": "code",
      "source": [
        "all_symptoms = []\n",
        "uni_all_symptoms = set()\n",
        "for index, row in df.iterrows():\n",
        "  for symp in row['Symptoms']:\n",
        "      all_symptoms.append(symp)\n",
        "uni_all_symptoms.update(all_symptoms)\n",
        "# (symp for subset in row['Symptoms'] for symp in subset)\n",
        "uni_all_symptoms"
      ],
      "metadata": {
        "colab": {
          "base_uri": "https://localhost:8080/"
        },
        "id": "FeqQ9OuYcpcB",
        "outputId": "d2ec84c3-63bb-4cf4-b4ea-19455f318d61"
      },
      "execution_count": null,
      "outputs": [
        {
          "output_type": "execute_result",
          "data": {
            "text/plain": [
              "{'Abdominal Pain',\n",
              " 'Blurred Vision',\n",
              " 'Chest Discomfort',\n",
              " 'Chest Pain',\n",
              " 'Chest Tightness',\n",
              " 'Chills',\n",
              " 'Congestion',\n",
              " 'Cough',\n",
              " 'Dark Urine',\n",
              " 'Diarrhea',\n",
              " 'Dizziness',\n",
              " 'Facial Pain',\n",
              " 'Fatigue',\n",
              " 'Fever',\n",
              " 'Frequent Urination',\n",
              " 'Headache',\n",
              " 'Increased Thirst',\n",
              " 'Itching',\n",
              " 'Jaundice',\n",
              " 'Joint Pain',\n",
              " 'Loss of Appetite',\n",
              " 'Loss of Taste',\n",
              " 'Mucus Production',\n",
              " 'Muscle Aches',\n",
              " 'Muscle Pain',\n",
              " 'Nasal Congestion',\n",
              " 'Nausea',\n",
              " 'Night Sweats',\n",
              " 'Pale Skin',\n",
              " 'Rash',\n",
              " 'Redness',\n",
              " 'Runny Nose',\n",
              " 'Sensitivity to Light',\n",
              " 'Shortness of Breath',\n",
              " 'Sneezing',\n",
              " 'Sore Throat',\n",
              " 'Stiffness',\n",
              " 'Sweating',\n",
              " 'Swelling',\n",
              " 'Swollen Lymph Nodes',\n",
              " 'Visual Disturbances',\n",
              " 'Vomiting',\n",
              " 'Weakness',\n",
              " 'Weight Loss',\n",
              " 'Wheezing'}"
            ]
          },
          "metadata": {},
          "execution_count": 40
        }
      ]
    },
    {
      "cell_type": "markdown",
      "source": [
        "# Other option in the input\n",
        "# Sort symptoms that is not in the dataset\n"
      ],
      "metadata": {
        "id": "QXNVBQKFLUP1"
      }
    },
    {
      "cell_type": "code",
      "source": [
        "import torch\n",
        "from transformers import BertTokenizer, BertModel\n",
        "import pandas as pd\n",
        "import numpy as np\n",
        "from sklearn.metrics.pairwise import cosine_similarity\n",
        "\n",
        "# Initialize the tokenizer and model for BERT\n",
        "tokenizer = BertTokenizer.from_pretrained('bert-base-uncased')\n",
        "model = BertModel.from_pretrained('bert-base-uncased')\n",
        "\n",
        "def get_word_embedding(word):\n",
        "    # Tokenize and get input IDs for the word\n",
        "    inputs = tokenizer(word, return_tensors=\"pt\")\n",
        "    outputs = model(**inputs)\n",
        "\n",
        "    # Obtain the embedding (average across all token embeddings in case of multiple tokens)\n",
        "    last_hidden_states = outputs.last_hidden_state\n",
        "    embedding = torch.mean(last_hidden_states, dim=1).detach().numpy()\n",
        "\n",
        "    return embedding\n",
        "\n",
        "def calculate_similarity(word1, word2):\n",
        "    # Get embeddings for both words\n",
        "    embedding1 = get_word_embedding(word1)\n",
        "    embedding2 = get_word_embedding(word2)\n",
        "\n",
        "    # Calculate cosine similarity and convert to percentage\n",
        "    similarity = cosine_similarity(embedding1, embedding2)[0][0]\n",
        "    similarity_percentage = similarity * 100  # Convert to percentage\n",
        "\n",
        "    return similarity_percentage\n",
        "\n",
        "# Input symptoms\n",
        "input_symptoms = ['Cough', 'Shortness of Breath']\n",
        "input_symptoms_bert = ['Swwwelling'] # suppose to be empty, just value to test code\n",
        "for x in input_symptoms:\n",
        "    if x not in uni_all_symptoms:\n",
        "      input_symptoms_bert.append(x)\n",
        "\n",
        "for x in range(len(input_symptoms_bert)):\n",
        "  sym_w_percen = {'Symptoms':[],'Percentage':[], 'input_symptoms':[]}\n",
        "  for y in uni_all_symptoms:\n",
        "    similarity_percentage = calculate_similarity(input_symptoms_bert[x], y)\n",
        "    sym_w_percen['Symptoms'].append(y)\n",
        "    sym_w_percen['Percentage'].append(similarity_percentage)\n",
        "    sym_w_percen['input_symptoms'].append(input_symptoms_bert[x])\n",
        "  # Sort 'name' and 'Percentage' together by 'Percentage'\n",
        "  sorted_pairs = sorted(zip(sym_w_percen['Symptoms'], sym_w_percen['Percentage'],sym_w_percen['input_symptoms'] ), key=lambda x: x[1], reverse=True)\n",
        "\n",
        "  # Unzip the sorted pairs back into two lists\n",
        "  sorted_names, sorted_percentages, sorted_in = zip(*sorted_pairs)\n",
        "\n",
        "  # Update the dictionary\n",
        "  sym_sorted = {'name': list(sorted_names), 'Percentage': list(sorted_percentages), 'input_symptoms': list(sorted_in)}\n",
        "  input_symptoms_bert[x] = sym_sorted['name'][0]\n",
        "  print(sym_sorted['name'][0])\n",
        "  print(sym_w_percen)\n",
        "print(input_symptoms_bert)\n",
        "input_symptoms = input_symptoms + input_symptoms_bert"
      ],
      "metadata": {
        "id": "3V3alqLOvLNY",
        "colab": {
          "base_uri": "https://localhost:8080/"
        },
        "outputId": "53a6e7cf-09d5-4bdc-a229-7d1d393b0677"
      },
      "execution_count": null,
      "outputs": [
        {
          "output_type": "stream",
          "name": "stdout",
          "text": [
            "Swelling\n",
            "{'Symptoms': ['Chest Discomfort', 'Blurred Vision', 'Sweating', 'Fatigue', 'Chills', 'Jaundice', 'Chest Tightness', 'Vomiting', 'Weight Loss', 'Rash', 'Itching', 'Swollen Lymph Nodes', 'Chest Pain', 'Pale Skin', 'Weakness', 'Sore Throat', 'Frequent Urination', 'Redness', 'Wheezing', 'Shortness of Breath', 'Sneezing', 'Headache', 'Joint Pain', 'Sensitivity to Light', 'Fever', 'Increased Thirst', 'Runny Nose', 'Dizziness', 'Diarrhea', 'Muscle Aches', 'Nasal Congestion', 'Mucus Production', 'Facial Pain', 'Congestion', 'Visual Disturbances', 'Abdominal Pain', 'Dark Urine', 'Night Sweats', 'Muscle Pain', 'Loss of Taste', 'Stiffness', 'Loss of Appetite', 'Cough', 'Nausea', 'Swelling'], 'Percentage': [55.064553022384644, 47.2954124212265, 56.30558729171753, 55.94830513000488, 50.84552764892578, 45.49458622932434, 54.58649396896362, 54.14164662361145, 40.30461609363556, 56.626689434051514, 54.07233238220215, 32.70144760608673, 47.06941843032837, 46.87570333480835, 54.24346327781677, 37.110939621925354, 38.10802698135376, 55.250513553619385, 53.75643968582153, 39.24739956855774, 47.193312644958496, 52.91355848312378, 44.51328217983246, 45.69082856178284, 53.253042697906494, 52.29229927062988, 52.73521542549133, 42.72286295890808, 34.87620651721954, 47.55266308784485, 50.51390528678894, 56.26443028450012, 46.35438919067383, 59.356069564819336, 56.08956217765808, 34.588244557380676, 58.23345184326172, 45.95599174499512, 49.192506074905396, 45.35694420337677, 49.74242150783539, 40.16907811164856, 57.698237895965576, 54.334479570388794, 59.707486629486084], 'input_symptoms': ['Swwwelling', 'Swwwelling', 'Swwwelling', 'Swwwelling', 'Swwwelling', 'Swwwelling', 'Swwwelling', 'Swwwelling', 'Swwwelling', 'Swwwelling', 'Swwwelling', 'Swwwelling', 'Swwwelling', 'Swwwelling', 'Swwwelling', 'Swwwelling', 'Swwwelling', 'Swwwelling', 'Swwwelling', 'Swwwelling', 'Swwwelling', 'Swwwelling', 'Swwwelling', 'Swwwelling', 'Swwwelling', 'Swwwelling', 'Swwwelling', 'Swwwelling', 'Swwwelling', 'Swwwelling', 'Swwwelling', 'Swwwelling', 'Swwwelling', 'Swwwelling', 'Swwwelling', 'Swwwelling', 'Swwwelling', 'Swwwelling', 'Swwwelling', 'Swwwelling', 'Swwwelling', 'Swwwelling', 'Swwwelling', 'Swwwelling', 'Swwwelling']}\n",
            "['Swelling']\n"
          ]
        }
      ]
    },
    {
      "cell_type": "markdown",
      "source": [
        "Based on the available symptoms, find the percentage of appearance of a disease"
      ],
      "metadata": {
        "id": "quUmQ_8HAfhF"
      }
    },
    {
      "cell_type": "code",
      "source": [
        "# Function to calculate Jaccard Similarity\n",
        "def similarity_function(set1, set2):\n",
        "    intersection = len(set1.intersection(set2))\n",
        "    union = len(set2)\n",
        "    return intersection / union\n",
        "\n",
        "# Calculate similarity for each disease\n",
        "similarities=[]\n",
        "for index, row in df.iterrows():\n",
        "    disease_symptoms = set(row['Symptoms'])\n",
        "    similarity = similarity_function(input_symptoms, disease_symptoms)\n",
        "    similarities.append([row['Disease'], similarity])\n",
        "\n",
        "# Sort the diseases by similarity in descending order\n",
        "similarities.sort(key=lambda x: x[1], reverse=True)\n",
        "\n",
        "# Display the most similar disease\n",
        "most_similar_disease = similarities[0]\n",
        "print(f\"The disease most similar to the input symptoms is {most_similar_disease[0]} with a similarity of {most_similar_disease[1]:.2f}\")"
      ],
      "metadata": {
        "colab": {
          "base_uri": "https://localhost:8080/"
        },
        "id": "5yXkZheF6uOe",
        "outputId": "1b94058c-5b3e-462f-816f-2b8301a98e93"
      },
      "execution_count": null,
      "outputs": [
        {
          "output_type": "stream",
          "name": "stdout",
          "text": [
            "The disease most similar to the input symptoms is Pneumonia with a similarity of 0.50\n"
          ]
        }
      ]
    },
    {
      "cell_type": "markdown",
      "source": [
        "List of disease and how likely a disease that a customer might have."
      ],
      "metadata": {
        "id": "0rHkGalOA0GM"
      }
    },
    {
      "cell_type": "code",
      "source": [
        "print(len(input_symptoms.intersection(df['Symptoms'][0])))\n",
        "similarities"
      ],
      "metadata": {
        "colab": {
          "base_uri": "https://localhost:8080/"
        },
        "id": "JNKKPfcsvxsC",
        "outputId": "db39b0d7-1ead-4f14-aff4-92f77c1d0597"
      },
      "execution_count": null,
      "outputs": [
        {
          "output_type": "stream",
          "name": "stdout",
          "text": [
            "1\n"
          ]
        },
        {
          "output_type": "execute_result",
          "data": {
            "text/plain": [
              "[['Pneumonia', 0.5],\n",
              " ['Bronchitis', 0.5],\n",
              " ['COVID-19', 0.4],\n",
              " ['Asthma', 0.3333333333333333],\n",
              " ['Influenza', 0.25],\n",
              " ['Arthritis', 0.25],\n",
              " ['Tuberculosis', 0.25],\n",
              " ['Anemia', 0.25],\n",
              " ['Common Cold', 0.0],\n",
              " ['Diabetes', 0.0],\n",
              " ['Hypertension', 0.0],\n",
              " ['Migraine', 0.0],\n",
              " ['Appendicitis', 0.0],\n",
              " ['Hepatitis', 0.0],\n",
              " ['Malaria', 0.0],\n",
              " ['Lyme Disease', 0.0],\n",
              " ['Strep Throat', 0.0],\n",
              " ['Chickenpox', 0.0],\n",
              " ['Gastroenteritis', 0.0],\n",
              " ['Sinusitis', 0.0]]"
            ]
          },
          "metadata": {},
          "execution_count": 45
        }
      ]
    },
    {
      "cell_type": "markdown",
      "source": [
        "# After finding diseases that a customer might have. Trace back the other symptoms of those disease and ask the customers."
      ],
      "metadata": {
        "id": "Mqs9UXimA-CA"
      }
    },
    {
      "cell_type": "code",
      "source": [
        "possible_diseases = []\n",
        "filtered_symptoms = []\n",
        "possible_symptoms = set()\n",
        "for row in similarities:\n",
        "  if (row[1] + 0.1) >= similarities[0][1]:\n",
        "    possible_diseases.append(row[0])\n",
        "\n",
        "for dis in possible_diseases:\n",
        "    for index, row in df.iterrows():\n",
        "      if row['Disease'] == dis:\n",
        "        filtered_array = [symp for symp in row['Symptoms'] if symp not in input_symptoms]\n",
        "        filtered_symptoms.append(filtered_array)\n",
        "\n",
        "normal_array = [sym for sublist in filtered_symptoms for sym in sublist]\n",
        "possible_symptoms.update(normal_array) # make all possible symptoms unique\n",
        "\n",
        "# I will ask the customers all that kinds of symptoms again\n",
        "# After asking, add the new symptoms to the input_symptoms and re-evaluate to find the highest percentage again"
      ],
      "metadata": {
        "id": "rviJ2ZklCGft"
      },
      "execution_count": null,
      "outputs": []
    },
    {
      "cell_type": "code",
      "source": [
        "print(normal_array)\n",
        "print(filtered_symptoms)\n",
        "print(possible_symptoms)"
      ],
      "metadata": {
        "colab": {
          "base_uri": "https://localhost:8080/"
        },
        "id": "7I1UrDNzIjr1",
        "outputId": "74c226f1-e96b-4277-8f75-072cdcce33ed"
      },
      "execution_count": null,
      "outputs": [
        {
          "output_type": "stream",
          "name": "stdout",
          "text": [
            "['Chest Pain', 'Fever', 'Chest Discomfort', 'Mucus Production', 'Fever', 'Loss of Taste', 'Fatigue']\n",
            "[['Chest Pain', 'Fever'], ['Chest Discomfort', 'Mucus Production'], ['Fever', 'Loss of Taste', 'Fatigue']]\n",
            "{'Chest Discomfort', 'Fever', 'Chest Pain', 'Fatigue', 'Loss of Taste', 'Mucus Production'}\n"
          ]
        }
      ]
    }
  ]
}